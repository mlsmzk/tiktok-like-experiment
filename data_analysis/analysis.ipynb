{
 "cells": [
  {
   "cell_type": "markdown",
   "metadata": {},
   "source": [
    "# Data Analysis\n",
    "Table of Contents:\n",
    "* [Importing Data](#one)\n",
    "* [Data Manipulation](#two)\n",
    "* [Analyzing Hashtags](#three)"
   ]
  },
  {
   "cell_type": "code",
   "execution_count": 17,
   "metadata": {},
   "outputs": [],
   "source": [
    "import pandas as pd\n",
    "import numpy as np\n",
    "import matplotlib.pyplot as plt"
   ]
  },
  {
   "cell_type": "markdown",
   "metadata": {},
   "source": [
    "## 1. Importing Data <a class=\"anchor\" id=\"one\"></a>\n",
    "For each scenario, create data frame to organize which csv files belong to which scenario and test user <br>\n",
    "In order for the following code blocks to run, change variable `prefix` below to the file path stored in your computer for this project"
   ]
  },
  {
   "cell_type": "code",
   "execution_count": 41,
   "metadata": {},
   "outputs": [],
   "source": [
    "prefix = \"/Users/carolinejung/tiktok-like-experiment/\" # CHANGE ME!"
   ]
  },
  {
   "cell_type": "code",
   "execution_count": 42,
   "metadata": {},
   "outputs": [],
   "source": [
    "sc1_files = pd.DataFrame(\n",
    "    [{\"run\": 1, \"user\": \"control\", \"videos\": \"all\", \"path\": prefix+\"data/-1_Sec02Gr2Sc5Cntrl_JL_02-12-19-31_like_by_hashtag_data_all_videos.csv\"},\n",
    "     {\"run\": 1, \"user\": \"control\", \"videos\": \"liked\", \"path\": prefix+\"data/-1_Sec02Gr2Sc5Cntrl_JL_02-12-19-31_like_by_hashtag_data_liked_videos.csv\"},\n",
    "     {\"run\": 1, \"user\": \"active\", \"videos\": \"all\", \"path\": prefix+\"data/5_Sec02Gr2Sc5Activ_JL_02-12-19-30_like_by_control_data_all_videos.csv\"},\n",
    "     {\"run\": 1, \"user\": \"active\", \"videos\": \"liked\", \"path\": prefix+\"data/5_Sec02Gr2Sc5Activ_JL_02-12-19-30_like_by_control_data_liked_videos.csv\"},\n",
    "\n",
    "     {\"run\": 2, \"user\": \"control\", \"videos\": \"all\", \"path\": prefix+\"data/-1_Sec02Gr2Sc5Cntrl_JL_02-13-13-25_like_by_hashtag_data_all_videos.csv\"},\n",
    "     {\"run\": 2, \"user\": \"control\", \"videos\": \"liked\", \"path\": prefix+\"data/-1_Sec02Gr2Sc5Cntrl_JL_02-13-13-25_like_by_hashtag_data_liked_videos.csv\"},\n",
    "     {\"run\": 2, \"user\": \"active\", \"videos\": \"all\", \"path\": prefix+\"data/5_Sec02Gr2Sc5Activ_JL_02-13-13-23_like_by_control_data_all_videos.csv\"},\n",
    "     {\"run\": 2, \"user\": \"active\", \"videos\": \"liked\", \"path\": prefix+\"data/5_Sec02Gr2Sc5Activ_JL_02-13-13-23_like_by_control_data_liked_videos.csv\"},\n",
    "\n",
    "     {\"run\": 3, \"user\": \"control\", \"videos\": \"all\", \"path\": prefix+\"data/-1_Sec02Gr2Sc2Cntrl_CJ_02-13-13-37_like_by_hashtag_data_all_videos.csv\"},\n",
    "     {\"run\": 3, \"user\": \"control\", \"videos\": \"liked\", \"path\": prefix+\"data/-1_Sec02Gr2Sc2Cntrl_CJ_02-13-13-37_like_by_hashtag_data_liked_videos.csv\"},\n",
    "     {\"run\": 3, \"user\": \"active\", \"videos\": \"all\", \"path\": prefix+\"data/2_Sec02Gr2Sc2Activ_CJ_02-13-13-36_like_by_control_data_all_videos.csv\"},\n",
    "     {\"run\": 3, \"user\": \"active\", \"videos\": \"liked\", \"path\": prefix+\"data/2_Sec02Gr2Sc2Activ_CJ_02-13-13-36_like_by_control_data_liked_videos.csv\"},\n",
    "\n",
    "     {\"run\": 4, \"user\": \"control\", \"videos\": \"all\", \"path\": prefix+\"data/-1_Sec02Gr2Sc5Cntrl_JL_02-13-13-45_like_by_hashtag_data_all_videos.csv\"},\n",
    "     {\"run\": 4, \"user\": \"control\", \"videos\": \"liked\", \"path\": prefix+\"data/-1_Sec02Gr2Sc5Cntrl_JL_02-13-13-45_like_by_hashtag_data_liked_videos.csv\"},\n",
    "     {\"run\": 4, \"user\": \"active\", \"videos\": \"all\", \"path\": prefix+\"data/5_Sec02Gr2Sc5Activ_JL_02-13-13-38_like_by_control_data_all_videos.csv\"},\n",
    "     {\"run\": 4, \"user\": \"active\", \"videos\": \"liked\", \"path\": prefix+\"data/5_Sec02Gr2Sc5Activ_JL_02-13-13-38_like_by_control_data_liked_videos.csv\"},\n",
    "\n",
    "     {\"run\": 5, \"user\": \"control\", \"videos\": \"all\", \"path\": prefix+\"data/-1_Sec02Gr2Sc5Cntrl_JL_02-13-13-56_like_by_hashtag_data_all_videos.csv\"},\n",
    "     {\"run\": 5, \"user\": \"control\", \"videos\": \"liked\", \"path\": prefix+\"data/-1_Sec02Gr2Sc5Cntrl_JL_02-13-13-56_like_by_hashtag_data_liked_videos.csv\"},\n",
    "     {\"run\": 5, \"user\": \"active\", \"videos\": \"all\", \"path\": prefix+\"data/5_Sec02Gr2Sc5Activ_JL_02-13-13-55_like_by_control_data_all_videos.csv\"},\n",
    "     {\"run\": 5, \"user\": \"active\", \"videos\": \"liked\", \"path\": prefix+\"data/5_Sec02Gr2Sc5Activ_JL_02-13-13-55_like_by_control_data_liked_videos.csv\"},\n",
    "\n",
    "     {\"run\": 6, \"user\": \"control\", \"videos\": \"all\", \"path\": prefix+\"data/-1_Sec02Gr2Sc5Cntrl_JL_02-13-14-37_like_by_hashtag_data_all_videos.csv\"},\n",
    "     {\"run\": 6, \"user\": \"control\", \"videos\": \"liked\", \"path\": prefix+\"data/-1_Sec02Gr2Sc5Cntrl_JL_02-13-14-37_like_by_hashtag_data_liked_videos.csv\"},\n",
    "     {\"run\": 6, \"user\": \"active\", \"videos\": \"all\", \"path\": prefix+\"data/5_Sec02Gr2Sc5Activ_JL_02-13-14-37_like_by_control_data_all_videos.csv\"},\n",
    "     {\"run\": 6, \"user\": \"active\", \"videos\": \"liked\", \"path\": prefix+\"data/5_Sec02Gr2Sc5Activ_JL_02-13-14-37_like_by_control_data_liked_videos.csv\"},\n",
    "\n",
    "     {\"run\": 7, \"user\": \"control\", \"videos\": \"all\", \"path\": prefix+\"data/-1_Sec02Gr2Sc5Cntrl_JL_02-13-14-43_like_by_hashtag_data_all_videos.csv\"},\n",
    "     {\"run\": 7, \"user\": \"control\", \"videos\": \"liked\", \"path\": prefix+\"data/-1_Sec02Gr2Sc5Cntrl_JL_02-13-14-43_like_by_hashtag_data_liked_videos.csv\"},\n",
    "     {\"run\": 7, \"user\": \"active\", \"videos\": \"all\", \"path\": prefix+\"data/5_Sec02Gr2Sc5Activ_JL_02-13-14-43_like_by_control_data_all_videos.csv\"},\n",
    "     {\"run\": 7, \"user\": \"active\", \"videos\": \"liked\", \"path\": prefix+\"data/5_Sec02Gr2Sc5Activ_JL_02-13-14-43_like_by_control_data_liked_videos.csv\"},\n",
    "\n",
    "     {\"run\": 8, \"user\": \"control\", \"videos\": \"all\", \"path\": prefix+\"data/-1_Sec02Gr2Sc5Cntrl_JL_02-13-14-50_like_by_hashtag_data_all_videos.csv\"},\n",
    "     {\"run\": 8, \"user\": \"control\", \"videos\": \"liked\", \"path\": prefix+\"data/-1_Sec02Gr2Sc5Cntrl_JL_02-13-14-50_like_by_hashtag_data_liked_videos.csv\"},\n",
    "     {\"run\": 8, \"user\": \"active\", \"videos\": \"all\", \"path\": prefix+\"data/5_Sec02Gr2Sc5Activ_JL_02-13-14-48_like_by_control_data_all_videos.csv\"},\n",
    "     {\"run\": 8, \"user\": \"active\", \"videos\": \"liked\", \"path\": prefix+\"data/5_Sec02Gr2Sc5Activ_JL_02-13-14-48_like_by_control_data_liked_videos.csv\"},\n",
    "\n",
    "     {\"run\": 9, \"user\": \"control\", \"videos\": \"all\", \"path\": prefix+\"data/-1_Sec02Gr2Sc5Cntrl_JL_02-13-14-54_like_by_hashtag_data_all_videos.csv\"},\n",
    "     {\"run\": 9, \"user\": \"control\", \"videos\": \"liked\", \"path\": prefix+\"data/-1_Sec02Gr2Sc5Cntrl_JL_02-13-14-54_like_by_hashtag_data_liked_videos.csv\"},\n",
    "     {\"run\": 9, \"user\": \"active\", \"videos\": \"all\", \"path\": prefix+\"data/5_Sec02Gr2Sc5Activ_JL_02-13-14-53_like_by_control_data_all_videos.csv\"},\n",
    "     {\"run\": 9, \"user\": \"active\", \"videos\": \"liked\", \"path\": prefix+\"data/5_Sec02Gr2Sc5Activ_JL_02-13-14-53_like_by_control_data_liked_videos.csv\"},\n",
    "\n",
    "     {\"run\": 10, \"user\": \"control\", \"videos\": \"all\", \"path\": prefix+\"data/-1_Sec02Gr2Sc5Cntrl_JL_02-13-14-58_like_by_hashtag_data_all_videos.csv\"},\n",
    "     {\"run\": 10, \"user\": \"control\", \"videos\": \"liked\", \"path\": prefix+\"data/-1_Sec02Gr2Sc5Cntrl_JL_02-13-14-58_like_by_hashtag_data_liked_videos.csv\"},\n",
    "     {\"run\": 10, \"user\": \"active\", \"videos\": \"all\", \"path\": prefix+\"data/5_Sec02Gr2Sc5Activ_JL_02-13-14-57_like_by_control_data_all_videos.csv\"},\n",
    "     {\"run\": 10, \"user\": \"active\", \"videos\": \"liked\", \"path\": prefix+\"data/5_Sec02Gr2Sc5Activ_JL_02-13-14-57_like_by_control_data_liked_videos.csv\"},\n",
    "\n",
    "     {\"run\": 11, \"user\": \"control\", \"videos\": \"all\", \"path\": prefix+\"data/-1_Sec02Gr2Sc5Cntrl_JL_02-13-15-22_like_by_hashtag_data_all_videos.csv\"},\n",
    "     {\"run\": 11, \"user\": \"control\", \"videos\": \"liked\", \"path\": prefix+\"data/-1_Sec02Gr2Sc5Cntrl_JL_02-13-15-22_like_by_hashtag_data_liked_videos.csv\"},\n",
    "     {\"run\": 11, \"user\": \"active\", \"videos\": \"all\", \"path\": prefix+\"data/5_Sec02Gr2Sc5Activ_JL_02-13-15-21_like_by_control_data_all_videos.csv\"},\n",
    "     {\"run\": 11, \"user\": \"active\", \"videos\": \"liked\", \"path\": prefix+\"data/5_Sec02Gr2Sc5Activ_JL_02-13-15-21_like_by_control_data_liked_videos.csv\"},\n",
    "\n",
    "     {\"run\": 12, \"user\": \"control\", \"videos\": \"all\", \"path\": prefix+\"data/-1_Sec02Gr2Sc5Cntrl_JL_02-13-15-30_like_by_hashtag_data_all_videos.csv\"},\n",
    "     {\"run\": 12, \"user\": \"control\", \"videos\": \"liked\", \"path\": prefix+\"data/-1_Sec02Gr2Sc5Cntrl_JL_02-13-15-30_like_by_hashtag_data_liked_videos.csv\"},\n",
    "     {\"run\": 12, \"user\": \"active\", \"videos\": \"all\", \"path\": prefix+\"data/5_Sec02Gr2Sc5Activ_JL_02-13-15-29_like_by_control_data_all_videos.csv\"},\n",
    "     {\"run\": 12, \"user\": \"active\", \"videos\": \"liked\", \"path\": prefix+\"data/5_Sec02Gr2Sc5Activ_JL_02-13-15-29_like_by_control_data_liked_videos.csv\"},\n",
    "\n",
    "     {\"run\": 13, \"user\": \"control\", \"videos\": \"all\", \"path\": prefix+\"data/-1_Sec02Gr2Sc5Cntrl_JL_02-13-15-37_like_by_hashtag_data_all_videos.csv\"},\n",
    "     {\"run\": 13, \"user\": \"control\", \"videos\": \"liked\", \"path\": prefix+\"data/-1_Sec02Gr2Sc5Cntrl_JL_02-13-15-37_like_by_hashtag_data_liked_videos.csv\"},\n",
    "     {\"run\": 13, \"user\": \"active\", \"videos\": \"all\", \"path\": prefix+\"data/5_Sec02Gr2Sc5Activ_JL_02-13-15-36_like_by_control_data_all_videos.csv\"},\n",
    "     {\"run\": 13, \"user\": \"active\", \"videos\": \"liked\", \"path\": prefix+\"data/5_Sec02Gr2Sc5Activ_JL_02-13-15-36_like_by_control_data_liked_videos.csv\"},\n",
    "\n",
    "     {\"run\": 14, \"user\": \"control\", \"videos\": \"all\", \"path\": prefix+\"data/-1_Sec02Gr2Sc5Cntrl_JL_02-13-15-51_like_by_hashtag_data_all_videos.csv\"},\n",
    "     {\"run\": 14, \"user\": \"control\", \"videos\": \"liked\", \"path\": prefix+\"data/-1_Sec02Gr2Sc5Cntrl_JL_02-13-15-51_like_by_hashtag_data_liked_videos.csv\"},\n",
    "     {\"run\": 14, \"user\": \"active\", \"videos\": \"all\", \"path\": prefix+\"data/5_Sec02Gr2Sc5Activ_JL_02-13-15-50_like_by_control_data_all_videos.csv\"},\n",
    "     {\"run\": 14, \"user\": \"active\", \"videos\": \"liked\", \"path\": prefix+\"data/5_Sec02Gr2Sc5Activ_JL_02-13-15-50_like_by_control_data_liked_videos.csv\"},\n",
    "\n",
    "     {\"run\": 15, \"user\": \"control\", \"videos\": \"all\", \"path\": prefix+\"data/-1_Sec02Gr2Sc5Cntrl_JL_02-13-16-03_like_by_hashtag_data_all_videos.csv\"},\n",
    "     {\"run\": 15, \"user\": \"control\", \"videos\": \"liked\", \"path\": prefix+\"data/-1_Sec02Gr2Sc5Cntrl_JL_02-13-16-03_like_by_hashtag_data_liked_videos.csv\"},\n",
    "     {\"run\": 15, \"user\": \"active\", \"videos\": \"all\", \"path\": prefix+\"data/5_Sec02Gr2Sc5Activ_JL_02-13-16-01_like_by_control_data_all_videos.csv\"},\n",
    "     {\"run\": 15, \"user\": \"active\", \"videos\": \"liked\", \"path\": prefix+\"data/5_Sec02Gr2Sc5Activ_JL_02-13-16-01_like_by_control_data_liked_videos.csv\"},\n",
    "\n",
    "     {\"run\": 16, \"user\": \"control\", \"videos\": \"all\", \"path\": prefix+\"data/-1_Sec02Gr2Sc5Cntrl_JL_02-13-16-15_like_by_hashtag_data_all_videos.csv\"},\n",
    "     {\"run\": 16, \"user\": \"control\", \"videos\": \"liked\", \"path\": prefix+\"data/-1_Sec02Gr2Sc5Cntrl_JL_02-13-16-15_like_by_hashtag_data_liked_videos.csv\"},\n",
    "     {\"run\": 16, \"user\": \"active\", \"videos\": \"all\", \"path\": prefix+\"data/5_Sec02Gr2Sc5Activ_JL_02-13-16-14_like_by_control_data_all_videos.csv\"},\n",
    "     {\"run\": 16, \"user\": \"active\", \"videos\": \"liked\", \"path\": prefix+\"data/5_Sec02Gr2Sc5Activ_JL_02-13-16-14_like_by_control_data_liked_videos.csv\"},\n",
    "\n",
    "     {\"run\": 17, \"user\": \"control\", \"videos\": \"all\", \"path\": prefix+\"data/-1_Sec02Gr2Sc5Cntrl_JL_02-13-16-40_like_by_hashtag_data_all_videos.csv\"},\n",
    "     {\"run\": 17, \"user\": \"control\", \"videos\": \"liked\", \"path\": prefix+\"data/-1_Sec02Gr2Sc5Cntrl_JL_02-13-16-40_like_by_hashtag_data_liked_videos.csv\"},\n",
    "     {\"run\": 17, \"user\": \"active\", \"videos\": \"all\", \"path\": prefix+\"data/5_Sec02Gr2Sc5Activ_JL_02-13-16-39_like_by_control_data_all_videos.csv\"},\n",
    "     {\"run\": 17, \"user\": \"active\", \"videos\": \"liked\", \"path\": prefix+\"data/5_Sec02Gr2Sc5Activ_JL_02-13-16-39_like_by_control_data_liked_videos.csv\"},\n",
    "\n",
    "     {\"run\": 18, \"user\": \"control\", \"videos\": \"all\", \"path\": prefix+\"data/-1_Sec02Gr2Sc5Cntrl_JL_02-13-17-07_like_by_hashtag_data_all_videos.csv\"},\n",
    "     {\"run\": 18, \"user\": \"control\", \"videos\": \"liked\", \"path\": prefix+\"data/-1_Sec02Gr2Sc5Cntrl_JL_02-13-17-07_like_by_hashtag_data_liked_videos.csv\"},\n",
    "     {\"run\": 18, \"user\": \"active\", \"videos\": \"all\", \"path\": prefix+\"data/5_Sec02Gr2Sc5Activ_JL_02-13-17-07_like_by_control_data_all_videos.csv\"},\n",
    "     {\"run\": 18, \"user\": \"active\", \"videos\": \"liked\", \"path\": prefix+\"data/5_Sec02Gr2Sc5Activ_JL_02-13-17-07_like_by_control_data_liked_videos.csv\"},\n",
    "\n",
    "     {\"run\": 19, \"user\": \"control\", \"videos\": \"all\", \"path\": prefix+\"data/-1_Sec02Gr2Sc5Cntrl_JL_02-13-17-56_like_by_hashtag_data_all_videos.csv\"},\n",
    "     {\"run\": 19, \"user\": \"control\", \"videos\": \"liked\", \"path\": prefix+\"data/-1_Sec02Gr2Sc5Cntrl_JL_02-13-17-56_like_by_hashtag_data_liked_videos.csv\"},\n",
    "     {\"run\": 19, \"user\": \"active\", \"videos\": \"all\", \"path\": prefix+\"data/5_Sec02Gr2Sc5Activ_JL_02-13-17-55_like_by_control_data_all_videos.csv\"},\n",
    "     {\"run\": 19, \"user\": \"active\", \"videos\": \"liked\", \"path\": prefix+\"data/5_Sec02Gr2Sc5Activ_JL_02-13-17-55_like_by_control_data_liked_videos.csv\"},\n",
    "\n",
    "     {\"run\": 20, \"user\": \"control\", \"videos\": \"all\", \"path\": prefix+\"data/-1_Sec02Gr2Sc5Cntrl_JL_02-13-18-26_like_by_hashtag_data_all_videos.csv\"},\n",
    "     {\"run\": 20, \"user\": \"control\", \"videos\": \"liked\", \"path\": prefix+\"data/-1_Sec02Gr2Sc5Cntrl_JL_02-13-18-26_like_by_hashtag_data_liked_videos.csv\"},\n",
    "     {\"run\": 20, \"user\": \"active\", \"videos\": \"all\", \"path\": prefix+\"data/5_Sec02Gr2Sc5Activ_JL_02-13-18-26_like_by_control_data_all_videos.csv\"},\n",
    "     {\"run\": 20, \"user\": \"active\", \"videos\": \"liked\", \"path\": prefix+\"data/5_Sec02Gr2Sc5Activ_JL_02-13-18-26_like_by_control_data_liked_videos.csv\"}                 \n",
    "    ])"
   ]
  },
  {
   "cell_type": "code",
   "execution_count": 47,
   "metadata": {},
   "outputs": [],
   "source": [
    "sc2_files = pd.DataFrame(\n",
    "    [{\"run\": 1, \"user\": \"control\", \"videos\": \"all\", \"path\": prefix+\"data/-1_Sec02Gr2Sc2Cntrl_CJ_02-12-19-31_like_by_hashtag_data_all_videos.csv\"},\n",
    "     {\"run\": 1, \"user\": \"control\", \"videos\": \"liked\", \"path\": prefix+\"data/-1_Sec02Gr2Sc2Cntrl_CJ_02-12-19-31_like_by_hashtag_data_liked_videos.csv\"},\n",
    "     {\"run\": 1, \"user\": \"active\", \"videos\": \"all\", \"path\": prefix+\"data/2_Sec02Gr2Sc2Activ_CJ_02-12-19-30_like_by_control_data_all_videos.csv\"},\n",
    "     {\"run\": 1, \"user\": \"active\", \"videos\": \"liked\", \"path\": prefix+\"data/2_Sec02Gr2Sc2Activ_CJ_02-12-19-30_like_by_control_data_liked_videos.csv\"},\n",
    "\n",
    "     {\"run\": 2, \"user\": \"control\", \"videos\": \"all\", \"path\": prefix+\"data/-1_Sec02Gr2Sc2Cntrl_CJ_02-12-19-40_like_by_hashtag_data_all_videos.csv\"},\n",
    "     {\"run\": 2, \"user\": \"control\", \"videos\": \"liked\", \"path\": prefix+\"data/-1_Sec02Gr2Sc2Cntrl_CJ_02-12-19-40_like_by_hashtag_data_liked_videos.csv\"},\n",
    "     {\"run\": 2, \"user\": \"active\", \"videos\": \"all\", \"path\": prefix+\"data/2_Sec02Gr2Sc2Activ_CJ_02-12-19-39_like_by_control_data_all_videos.csv\"},\n",
    "     {\"run\": 2, \"user\": \"active\", \"videos\": \"liked\", \"path\": prefix+\"data/2_Sec02Gr2Sc2Activ_CJ_02-12-19-39_like_by_control_data_liked_videos.csv\"},\n",
    "\n",
    "     {\"run\": 3, \"user\": \"control\", \"videos\": \"all\", \"path\": prefix+\"data/-1_Sec02Gr2Sc2Cntrl_CJ_02-13-13-31_like_by_hashtag_data_all_videos.csv\"},\n",
    "     {\"run\": 3, \"user\": \"control\", \"videos\": \"liked\", \"path\": prefix+\"data/-1_Sec02Gr2Sc2Cntrl_CJ_02-13-13-31_like_by_hashtag_data_liked_videos.csv\"},\n",
    "     {\"run\": 3, \"user\": \"active\", \"videos\": \"all\", \"path\": prefix+\"data/2_Sec02Gr2Sc2Activ_CJ_02-13-13-30_like_by_control_data_all_videos.csv\"},\n",
    "     {\"run\": 3, \"user\": \"active\", \"videos\": \"liked\", \"path\": prefix+\"data/2_Sec02Gr2Sc2Activ_CJ_02-13-13-30_like_by_control_data_liked_videos.csv\"},\n",
    "\n",
    "     {\"run\": 4, \"user\": \"control\", \"videos\": \"all\", \"path\": prefix+\"data/-1_Sec02Gr2Sc2Cntrl_CJ_02-13-13-37_like_by_hashtag_data_all_videos.csv\"},\n",
    "     {\"run\": 4, \"user\": \"control\", \"videos\": \"liked\", \"path\": prefix+\"data/-1_Sec02Gr2Sc2Cntrl_CJ_02-13-13-37_like_by_hashtag_data_liked_videos.csv\"},\n",
    "     {\"run\": 4, \"user\": \"active\", \"videos\": \"all\", \"path\": prefix+\"data/2_Sec02Gr2Sc2Activ_CJ_02-13-13-36_like_by_control_data_all_videos.csv\"},\n",
    "     {\"run\": 4, \"user\": \"active\", \"videos\": \"liked\", \"path\": prefix+\"data/2_Sec02Gr2Sc2Activ_CJ_02-13-13-36_like_by_control_data_liked_videos.csv\"},\n",
    "\n",
    "     {\"run\": 5, \"user\": \"control\", \"videos\": \"all\", \"path\": prefix+\"data/-1_Sec02Gr2Sc2Cntrl_CJ_02-13-13-53_like_by_hashtag_data_all_videos.csv\"},\n",
    "     {\"run\": 5, \"user\": \"control\", \"videos\": \"liked\", \"path\": prefix+\"data/-1_Sec02Gr2Sc2Cntrl_CJ_02-13-13-53_like_by_hashtag_data_liked_videos.csv\"},\n",
    "     {\"run\": 5, \"user\": \"active\", \"videos\": \"all\", \"path\": prefix+\"data/2_Sec02Gr2Sc2Activ_CJ_02-13-13-52_like_by_control_data_all_videos.csv\"},\n",
    "     {\"run\": 5, \"user\": \"active\", \"videos\": \"liked\", \"path\": prefix+\"data/2_Sec02Gr2Sc2Activ_CJ_02-13-13-52_like_by_control_data_liked_videos.csv\"},\n",
    "\n",
    "     {\"run\": 6, \"user\": \"control\", \"videos\": \"all\", \"path\": prefix+\"data/-1_Sec02Gr2Sc2Cntrl_CJ_02-14-00-59_like_by_hashtag_data_all_videos.csv\"},\n",
    "     {\"run\": 6, \"user\": \"control\", \"videos\": \"liked\", \"path\": prefix+\"data/-1_Sec02Gr2Sc2Cntrl_CJ_02-14-00-59_like_by_hashtag_data_liked_videos.csv\"},\n",
    "     {\"run\": 6, \"user\": \"active\", \"videos\": \"all\", \"path\": prefix+\"data/2_Sec02Gr2Sc2Activ_CJ_02-14-00-58_like_by_control_data_all_videos.csv\"},\n",
    "     {\"run\": 6, \"user\": \"active\", \"videos\": \"liked\", \"path\": prefix+\"data/2_Sec02Gr2Sc2Activ_CJ_02-14-00-58_like_by_control_data_liked_videos.csv\"},\n",
    "\n",
    "     {\"run\": 7, \"user\": \"control\", \"videos\": \"all\", \"path\": prefix+\"data/-1_Sec02Gr2Sc2Cntrl_CJ_02-14-01-03_like_by_hashtag_data_all_videos.csv\"},\n",
    "     {\"run\": 7, \"user\": \"control\", \"videos\": \"liked\", \"path\": prefix+\"data/-1_Sec02Gr2Sc2Cntrl_CJ_02-14-01-03_like_by_hashtag_data_liked_videos.csv\"},\n",
    "     {\"run\": 7, \"user\": \"active\", \"videos\": \"all\", \"path\": prefix+\"data/2_Sec02Gr2Sc2Activ_CJ_02-14-01-02_like_by_control_data_all_videos.csv\"},\n",
    "     {\"run\": 7, \"user\": \"active\", \"videos\": \"liked\", \"path\": prefix+\"data/2_Sec02Gr2Sc2Activ_CJ_02-14-01-02_like_by_control_data_liked_videos.csv\"},\n",
    "\n",
    "     {\"run\": 8, \"user\": \"control\", \"videos\": \"all\", \"path\": prefix+\"data/-1_Sec02Gr2Sc2Cntrl_CJ_02-14-01-16_like_by_hashtag_data_all_videos.csv\"},\n",
    "     {\"run\": 8, \"user\": \"control\", \"videos\": \"liked\", \"path\": prefix+\"data/-1_Sec02Gr2Sc2Cntrl_CJ_02-14-01-16_like_by_hashtag_data_liked_videos.csv\"},\n",
    "     {\"run\": 8, \"user\": \"active\", \"videos\": \"all\", \"path\": prefix+\"data/2_Sec02Gr2Sc2Activ_CJ_02-14-01-16_like_by_control_data_all_videos.csv\"},\n",
    "     {\"run\": 8, \"user\": \"active\", \"videos\": \"liked\", \"path\": prefix+\"data/2_Sec02Gr2Sc2Activ_CJ_02-14-01-16_like_by_control_data_liked_videos.csv\"},\n",
    "\n",
    "     {\"run\": 9, \"user\": \"control\", \"videos\": \"all\", \"path\": prefix+\"data/-1_Sec02Gr2Sc2Cntrl_CJ_02-14-01-22_like_by_hashtag_data_all_videos.csv\"},\n",
    "     {\"run\": 9, \"user\": \"control\", \"videos\": \"liked\", \"path\": prefix+\"data/-1_Sec02Gr2Sc2Cntrl_CJ_02-14-01-22_like_by_hashtag_data_liked_videos.csv\"},\n",
    "     {\"run\": 9, \"user\": \"active\", \"videos\": \"all\", \"path\": prefix+\"data/2_Sec02Gr2Sc2Activ_CJ_02-14-01-21_like_by_control_data_all_videos.csv\"},\n",
    "     {\"run\": 9, \"user\": \"active\", \"videos\": \"liked\", \"path\": prefix+\"data/2_Sec02Gr2Sc2Activ_CJ_02-14-01-21_like_by_control_data_liked_videos.csv\"},\n",
    "\n",
    "     {\"run\": 10, \"user\": \"control\", \"videos\": \"all\", \"path\": prefix+\"data/-1_Sec02Gr2Sc2Cntrl_CJ_02-14-12-23_like_by_hashtag_data_all_videos.csv\"},\n",
    "     {\"run\": 10, \"user\": \"control\", \"videos\": \"liked\", \"path\": prefix+\"data/-1_Sec02Gr2Sc2Cntrl_CJ_02-14-12-23_like_by_hashtag_data_liked_videos.csv\"},\n",
    "     {\"run\": 10, \"user\": \"active\", \"videos\": \"all\", \"path\": prefix+\"data/2_Sec02Gr2Sc2Activ_CJ_02-14-12-23_like_by_control_data_all_videos.csv\"},\n",
    "     {\"run\": 10, \"user\": \"active\", \"videos\": \"liked\", \"path\": prefix+\"data/2_Sec02Gr2Sc2Activ_CJ_02-14-12-23_like_by_control_data_liked_videos.csv\"},\n",
    "\n",
    "     {\"run\": 11, \"user\": \"control\", \"videos\": \"all\", \"path\": prefix+\"data/-1_Sec02Gr2Sc2Cntrl_CJ_02-14-12-34_like_by_hashtag_data_all_videos.csv\"},\n",
    "     {\"run\": 11, \"user\": \"control\", \"videos\": \"liked\", \"path\": prefix+\"data/-1_Sec02Gr2Sc2Cntrl_CJ_02-14-12-34_like_by_hashtag_data_liked_videos.csv\"},\n",
    "     {\"run\": 11, \"user\": \"active\", \"videos\": \"all\", \"path\": prefix+\"data/2_Sec02Gr2Sc2Activ_CJ_02-14-12-33_like_by_control_data_all_videos.csv\"},\n",
    "     {\"run\": 11, \"user\": \"active\", \"videos\": \"liked\", \"path\": prefix+\"data/2_Sec02Gr2Sc2Activ_CJ_02-14-12-33_like_by_control_data_liked_videos.csv\"},\n",
    "\n",
    "     {\"run\": 12, \"user\": \"control\", \"videos\": \"all\", \"path\": prefix+\"data/-1_Sec02Gr2Sc2Cntrl_CJ_02-14-12-48_like_by_hashtag_data_all_videos.csv\"},\n",
    "     {\"run\": 12, \"user\": \"control\", \"videos\": \"liked\", \"path\": prefix+\"data/-1_Sec02Gr2Sc2Cntrl_CJ_02-14-12-48_like_by_hashtag_data_liked_videos.csv\"},\n",
    "     {\"run\": 12, \"user\": \"active\", \"videos\": \"all\", \"path\": prefix+\"data/2_Sec02Gr2Sc2Activ_CJ_02-14-12-49_like_by_control_data_all_videos.csv\"},\n",
    "     {\"run\": 12, \"user\": \"active\", \"videos\": \"liked\", \"path\": prefix+\"data/2_Sec02Gr2Sc2Activ_CJ_02-14-12-49_like_by_control_data_liked_videos.csv\"},\n",
    "\n",
    "     {\"run\": 13, \"user\": \"control\", \"videos\": \"all\", \"path\": prefix+\"data/-1_Sec02Gr2Sc2Cntrl_CJ_02-14-13-19_like_by_hashtag_data_all_videos.csv\"},\n",
    "     {\"run\": 13, \"user\": \"control\", \"videos\": \"liked\", \"path\": prefix+\"data/-1_Sec02Gr2Sc2Cntrl_CJ_02-14-13-19_like_by_hashtag_data_liked_videos.csv\"},\n",
    "     {\"run\": 13, \"user\": \"active\", \"videos\": \"all\", \"path\": prefix+\"data/2_Sec02Gr2Sc2Activ_CJ_02-14-13-18_like_by_control_data_all_videos.csv\"},\n",
    "     {\"run\": 13, \"user\": \"active\", \"videos\": \"liked\", \"path\": prefix+\"data/2_Sec02Gr2Sc2Activ_CJ_02-14-13-18_like_by_control_data_liked_videos.csv\"},\n",
    "\n",
    "     {\"run\": 14, \"user\": \"control\", \"videos\": \"all\", \"path\": prefix+\"data/-1_Sec02Gr2Sc2Cntrl_CJ_02-14-13-36_like_by_hashtag_data_all_videos.csv\"},\n",
    "     {\"run\": 14, \"user\": \"control\", \"videos\": \"liked\", \"path\": prefix+\"data/-1_Sec02Gr2Sc2Cntrl_CJ_02-14-13-36_like_by_hashtag_data_liked_videos.csv\"},\n",
    "     {\"run\": 14, \"user\": \"active\", \"videos\": \"all\", \"path\": prefix+\"data/2_Sec02Gr2Sc2Activ_CJ_02-14-13-35_like_by_control_data_all_videos.csv\"},\n",
    "     {\"run\": 14, \"user\": \"active\", \"videos\": \"liked\", \"path\": prefix+\"data/2_Sec02Gr2Sc2Activ_CJ_02-14-13-35_like_by_control_data_liked_videos.csv\"},\n",
    "\n",
    "     {\"run\": 15, \"user\": \"control\", \"videos\": \"all\", \"path\": prefix+\"data/-1_Sec02Gr2Sc2Cntrl_CJ_02-14-13-40_like_by_hashtag_data_all_videos.csv\"},\n",
    "     {\"run\": 15, \"user\": \"control\", \"videos\": \"liked\", \"path\": prefix+\"data/-1_Sec02Gr2Sc2Cntrl_CJ_02-14-13-40_like_by_hashtag_data_liked_videos.csv\"},\n",
    "     {\"run\": 15, \"user\": \"active\", \"videos\": \"all\", \"path\": prefix+\"data/2_Sec02Gr2Sc2Activ_CJ_02-14-13-39_like_by_control_data_all_videos.csv\"},\n",
    "     {\"run\": 15, \"user\": \"active\", \"videos\": \"liked\", \"path\": prefix+\"data/2_Sec02Gr2Sc2Activ_CJ_02-14-13-39_like_by_control_data_liked_videos.csv\"},\n",
    "\n",
    "     {\"run\": 16, \"user\": \"control\", \"videos\": \"all\", \"path\": prefix+\"data/-1_Sec02Gr2Sc2Cntrl_CJ_02-14-13-45_like_by_hashtag_data_all_videos.csv\"},\n",
    "     {\"run\": 16, \"user\": \"control\", \"videos\": \"liked\", \"path\": prefix+\"data/-1_Sec02Gr2Sc2Cntrl_CJ_02-14-13-45_like_by_hashtag_data_liked_videos.csv\"},\n",
    "     {\"run\": 16, \"user\": \"active\", \"videos\": \"all\", \"path\": prefix+\"data/2_Sec02Gr2Sc2Activ_CJ_02-14-13-44_like_by_control_data_all_videos.csv\"},\n",
    "     {\"run\": 16, \"user\": \"active\", \"videos\": \"liked\", \"path\": prefix+\"data/2_Sec02Gr2Sc2Activ_CJ_02-14-13-44_like_by_control_data_liked_videos.csv\"},\n",
    "\n",
    "     {\"run\": 17, \"user\": \"control\", \"videos\": \"all\", \"path\": prefix+\"data/-1_Sec02Gr2Sc2Cntrl_CJ_02-14-13-52_like_by_hashtag_data_all_videos.csv\"},\n",
    "     {\"run\": 17, \"user\": \"control\", \"videos\": \"liked\", \"path\": prefix+\"data/-1_Sec02Gr2Sc2Cntrl_CJ_02-14-13-52_like_by_hashtag_data_liked_videos.csv\"},\n",
    "     {\"run\": 17, \"user\": \"active\", \"videos\": \"all\", \"path\": prefix+\"data/2_Sec02Gr2Sc2Activ_CJ_02-14-13-51_like_by_control_data_all_videos.csv\"},\n",
    "     {\"run\": 17, \"user\": \"active\", \"videos\": \"liked\", \"path\": prefix+\"data/2_Sec02Gr2Sc2Activ_CJ_02-14-13-51_like_by_control_data_liked_videos.csv\"},\n",
    "\n",
    "     {\"run\": 18, \"user\": \"control\", \"videos\": \"all\", \"path\": prefix+\"data/-1_Sec02Gr2Sc2Cntrl_CJ_02-14-13-54_like_by_hashtag_data_all_videos.csv\"},\n",
    "     {\"run\": 18, \"user\": \"control\", \"videos\": \"liked\", \"path\": prefix+\"data/-1_Sec02Gr2Sc2Cntrl_CJ_02-14-13-54_like_by_hashtag_data_liked_videos.csv\"},\n",
    "     {\"run\": 18, \"user\": \"active\", \"videos\": \"all\", \"path\": prefix+\"data/2_Sec02Gr2Sc2Activ_CJ_02-14-13-54_like_by_control_data_all_videos.csv\"},\n",
    "     {\"run\": 18, \"user\": \"active\", \"videos\": \"liked\", \"path\": prefix+\"data/2_Sec02Gr2Sc2Activ_CJ_02-14-13-54_like_by_control_data_liked_videos.csv\"},\n",
    "\n",
    "     {\"run\": 19, \"user\": \"control\", \"videos\": \"all\", \"path\": prefix+\"data/-1_Sec02Gr2Sc2Cntrl_CJ_02-14-13-58_like_by_hashtag_data_all_videos.csv\"},\n",
    "     {\"run\": 19, \"user\": \"control\", \"videos\": \"liked\", \"path\": prefix+\"data/-1_Sec02Gr2Sc2Cntrl_CJ_02-14-13-58_like_by_hashtag_data_liked_videos.csv\"},\n",
    "     {\"run\": 19, \"user\": \"active\", \"videos\": \"all\", \"path\": prefix+\"data/2_Sec02Gr2Sc2Activ_CJ_02-14-13-58_like_by_control_data_all_videos.csv\"},\n",
    "     {\"run\": 19, \"user\": \"active\", \"videos\": \"liked\", \"path\": prefix+\"data/2_Sec02Gr2Sc2Activ_CJ_02-14-13-58_like_by_control_data_liked_videos.csv\"},\n",
    "\n",
    "     {\"run\": 20, \"user\": \"control\", \"videos\": \"all\", \"path\": prefix+\"data/-1_Sec02Gr2Sc2Cntrl_CJ_02-14-14-02_like_by_hashtag_data_all_videos.csv\"},\n",
    "     {\"run\": 20, \"user\": \"control\", \"videos\": \"liked\", \"path\": prefix+\"data/-1_Sec02Gr2Sc2Cntrl_CJ_02-14-14-02_like_by_hashtag_data_liked_videos.csv\"},\n",
    "     {\"run\": 20, \"user\": \"active\", \"videos\": \"all\", \"path\": prefix+\"data/2_Sec02Gr2Sc2Activ_CJ_02-14-14-02_like_by_control_data_all_videos.csv\"},\n",
    "     {\"run\": 20, \"user\": \"active\", \"videos\": \"liked\", \"path\": prefix+\"data/2_Sec02Gr2Sc2Activ_CJ_02-14-14-02_like_by_control_data_liked_videos.csv\"}\n",
    "    ])"
   ]
  },
  {
   "cell_type": "code",
   "execution_count": 44,
   "metadata": {},
   "outputs": [],
   "source": [
    "sc6_files = pd.DataFrame(\n",
    "    [{\"run\": 1, \"user\": \"control\", \"videos\": \"all\", \"path\": prefix+\"data/-1_Sec02Gr2Sc5Cntrl_MM_02-12-19-33_like_by_hashtag_data_all_videos.csv\"},\n",
    "     {\"run\": 1, \"user\": \"control\", \"videos\": \"liked\", \"path\": prefix+\"data/-1_Sec02Gr2Sc5Cntrl_MM_02-12-19-33_like_by_hashtag_data_liked_videos.csv\"},\n",
    "     {\"run\": 1, \"user\": \"active\", \"videos\": \"all\", \"path\": prefix+\"data/6_Sec02Gr2Sc5Activ_MM_02-12-19-30_like_by_control_data_all_videos.csv\"},\n",
    "     {\"run\": 1, \"user\": \"active\", \"videos\": \"liked\", \"path\": prefix+\"data/6_Sec02Gr2Sc5Activ_MM_02-12-19-30_like_by_control_data_liked_videos.csv\"},\n",
    "\n",
    "     {\"run\": 2, \"user\": \"control\", \"videos\": \"all\", \"path\": prefix+\"data/-1_Sec02Gr2Sc5Cntrl_MM_02-12-19-39_like_by_hashtag_data_all_videos.csv\"},\n",
    "     {\"run\": 2, \"user\": \"control\", \"videos\": \"liked\", \"path\": prefix+\"data/-1_Sec02Gr2Sc5Cntrl_MM_02-12-19-39_like_by_hashtag_data_liked_videos.csv\"},\n",
    "     {\"run\": 2, \"user\": \"active\", \"videos\": \"all\", \"path\": prefix+\"data/6_Sec02Gr2Sc5Activ_MM_02-12-19-39_like_by_control_data_all_videos.csv\"},\n",
    "     {\"run\": 2, \"user\": \"active\", \"videos\": \"liked\", \"path\": prefix+\"data/6_Sec02Gr2Sc5Activ_MM_02-12-19-39_like_by_control_data_liked_videos.csv\"},\n",
    "\n",
    "     {\"run\": 3, \"user\": \"control\", \"videos\": \"all\", \"path\": prefix+\"data/-1_Sec02Gr2Sc5Cntrl_MM_02-13-13-27_like_by_hashtag_data_all_videos.csv\"},\n",
    "     {\"run\": 3, \"user\": \"control\", \"videos\": \"liked\", \"path\": prefix+\"data/-1_Sec02Gr2Sc5Cntrl_MM_02-13-13-21_like_by_hashtag_data_liked_videos.csv\"},\n",
    "     {\"run\": 3, \"user\": \"active\", \"videos\": \"all\", \"path\": prefix+\"data/6_Sec02Gr2Sc5Activ_MM_02-13-13-26_like_by_control_data_all_videos.csv\"},\n",
    "     {\"run\": 3, \"user\": \"active\", \"videos\": \"liked\", \"path\": prefix+\"data/6_Sec02Gr2Sc5Activ_MM_02-13-13-26_like_by_control_data_liked_videos.csv\"},\n",
    "\n",
    "     {\"run\": 4, \"user\": \"control\", \"videos\": \"all\", \"path\": prefix+\"data/-1_Sec02Gr2Sc5Cntrl_MM_02-13-13-30_like_by_hashtag_data_all_videos.csv\"},\n",
    "     {\"run\": 4, \"user\": \"control\", \"videos\": \"liked\", \"path\": prefix+\"data/-1_Sec02Gr2Sc5Cntrl_MM_02-13-13-30_like_by_hashtag_data_liked_videos.csv\"},\n",
    "     {\"run\": 4, \"user\": \"active\", \"videos\": \"all\", \"path\": prefix+\"data/6_Sec02Gr2Sc5Activ_MM_02-13-13-30_like_by_control_data_all_videos.csv\"},\n",
    "     {\"run\": 4, \"user\": \"active\", \"videos\": \"liked\", \"path\": prefix+\"data/6_Sec02Gr2Sc5Activ_MM_02-13-13-30_like_by_control_data_liked_videos.csv\"},\n",
    "     \n",
    "     {\"run\": 5, \"user\": \"control\", \"videos\": \"all\", \"path\": prefix+\"data/-1_Sec02Gr2Sc5Cntrl_MM_02-13-13-34_like_by_hashtag_data_all_videos.csv\"},\n",
    "     {\"run\": 5, \"user\": \"control\", \"videos\": \"liked\", \"path\": prefix+\"data/-1_Sec02Gr2Sc5Cntrl_MM_02-13-13-34_like_by_hashtag_data_liked_videos.csv\"},\n",
    "     {\"run\": 5, \"user\": \"active\", \"videos\": \"all\", \"path\": prefix+\"data/6_Sec02Gr2Sc5Activ_MM_02-13-13-34_like_by_control_data_all_videos.csv\"},\n",
    "     {\"run\": 5, \"user\": \"active\", \"videos\": \"liked\", \"path\": prefix+\"data/6_Sec02Gr2Sc5Activ_MM_02-13-13-34_like_by_control_data_liked_videos.csv\"},\n",
    "\n",
    "     {\"run\": 6, \"user\": \"control\", \"videos\": \"all\", \"path\": prefix+\"data/-1_Sec02Gr2Sc5Cntrl_MM_02-13-13-43_like_by_hashtag_data_all_videos.csv\"},\n",
    "     {\"run\": 6, \"user\": \"control\", \"videos\": \"liked\", \"path\": prefix+\"data/-1_Sec02Gr2Sc5Cntrl_MM_02-13-13-43_like_by_hashtag_data_liked_videos.csv\"},\n",
    "     {\"run\": 6, \"user\": \"active\", \"videos\": \"all\", \"path\": prefix+\"data/6_Sec02Gr2Sc5Activ_MM_02-13-13-42_like_by_control_data_all_videos.csv\"},\n",
    "     {\"run\": 6, \"user\": \"active\", \"videos\": \"liked\", \"path\": prefix+\"data/6_Sec02Gr2Sc5Activ_MM_02-13-13-42_like_by_control_data_liked_videos.csv\"},\n",
    "\n",
    "     {\"run\": 7, \"user\": \"control\", \"videos\": \"all\", \"path\": prefix+\"data/-1_Sec02Gr2Sc5Cntrl_MM_02-13-13-47_like_by_hashtag_data_all_videos.csv\"},\n",
    "     {\"run\": 7, \"user\": \"control\", \"videos\": \"liked\", \"path\": prefix+\"data/-1_Sec02Gr2Sc5Cntrl_MM_02-13-13-47_like_by_hashtag_data_liked_videos.csv\"},\n",
    "     {\"run\": 7, \"user\": \"active\", \"videos\": \"all\", \"path\": prefix+\"data/6_Sec02Gr2Sc5Activ_MM_02-13-13-47_like_by_control_data_all_videos.csv\"},\n",
    "     {\"run\": 7, \"user\": \"active\", \"videos\": \"liked\", \"path\": prefix+\"data/6_Sec02Gr2Sc5Activ_MM_02-13-13-47_like_by_control_data_liked_videos.csv\"},\n",
    "\n",
    "     {\"run\": 8, \"user\": \"control\", \"videos\": \"all\", \"path\": prefix+\"data/-1_Sec02Gr2Sc5Cntrl_MM_02-13-13-51_like_by_hashtag_data_all_videos.csv\"},\n",
    "     {\"run\": 8, \"user\": \"control\", \"videos\": \"liked\", \"path\": prefix+\"data/-1_Sec02Gr2Sc5Cntrl_MM_02-13-13-51_like_by_hashtag_data_liked_videos.csv\"},\n",
    "     {\"run\": 8, \"user\": \"active\", \"videos\": \"all\", \"path\": prefix+\"data/6_Sec02Gr2Sc5Activ_MM_02-13-13-51_like_by_control_data_all_videos.csv\"},\n",
    "     {\"run\": 8, \"user\": \"active\", \"videos\": \"liked\", \"path\": prefix+\"data/6_Sec02Gr2Sc5Activ_MM_02-13-13-51_like_by_control_data_liked_videos.csv\"},\n",
    "\n",
    "     {\"run\": 9, \"user\": \"control\", \"videos\": \"all\", \"path\": prefix+\"data/-1_Sec02Gr2Sc5Cntrl_MM_02-13-13-55_like_by_hashtag_data_all_videos.csv\"},\n",
    "     {\"run\": 9, \"user\": \"control\", \"videos\": \"liked\", \"path\": prefix+\"data/-1_Sec02Gr2Sc5Cntrl_MM_02-13-13-55_like_by_hashtag_data_liked_videos.csv\"},\n",
    "     {\"run\": 9, \"user\": \"active\", \"videos\": \"all\", \"path\": prefix+\"data/6_Sec02Gr2Sc5Activ_MM_02-13-13-54_like_by_control_data_all_videos.csv\"},\n",
    "     {\"run\": 9, \"user\": \"active\", \"videos\": \"liked\", \"path\": prefix+\"data/6_Sec02Gr2Sc5Activ_MM_02-13-13-54_like_by_control_data_liked_videos.csv\"},\n",
    "    ])"
   ]
  },
  {
   "cell_type": "markdown",
   "metadata": {},
   "source": [
    "## 2. Data Manipulation <a class=\"anchor\" id=\"two\"></a>\n",
    "For each scenario:\n",
    "1. Read the csvs and name each dataframe based on its run number, user type, and types of videos stored\n",
    "2. Combine all runs into one single dataframe for each scenario for each user type and type of video stored (control_all, active_all, active_liked)"
   ]
  },
  {
   "cell_type": "code",
   "execution_count": 48,
   "metadata": {},
   "outputs": [],
   "source": [
    "def read_csv_and_name_dfs(sc_files):\n",
    "    sc = {}\n",
    "    for row in range(sc_files.shape[0]):\n",
    "        var_name = \"r{}_{}_{}\".format(sc_files.iloc[row][\"run\"], sc_files.iloc[row][\"user\"], sc_files.iloc[row][\"videos\"])\n",
    "        sc[var_name] = pd.read_csv(sc_files.iloc[row][\"path\"])\n",
    "        sc[var_name][\"run\"] = sc_files.iloc[row][\"run\"] #add new column for run number\n",
    "    return sc\n",
    "\n",
    "sc1 = read_csv_and_name_dfs(sc1_files)\n",
    "sc2 = read_csv_and_name_dfs(sc2_files)\n",
    "#sc3 = read_csv_and_name_dfs(sc3_files)\n",
    "#sc4 = read_csv_and_name_dfs(sc4_files)\n",
    "#sc5 = read_csv_and_name_dfs(sc5_files)\n",
    "#sc6 = read_csv_and_name_dfs(sc6_files)"
   ]
  },
  {
   "cell_type": "code",
   "execution_count": 49,
   "metadata": {},
   "outputs": [],
   "source": [
    "def merge_runs(sc):\n",
    "    to_merge_control_all = []\n",
    "    to_merge_active_all = []\n",
    "    to_merge_active_liked = []\n",
    "    for run_num in range(1, 21):\n",
    "        to_merge_control_all.append(sc[\"r{}_control_all\".format(run_num)])\n",
    "        to_merge_active_all.append(sc[\"r{}_active_all\".format(run_num)])\n",
    "        to_merge_active_liked.append(sc[\"r{}_active_liked\".format(run_num)])\n",
    "\n",
    "    control_all = pd.concat(to_merge_control_all)\n",
    "    active_all = pd.concat(to_merge_active_all)\n",
    "    active_liked = pd.concat(to_merge_active_liked)\n",
    "    return (control_all, active_all, active_liked)\n",
    "\n",
    "sc1_control_all = merge_runs(sc1)[0]\n",
    "sc1_active_all = merge_runs(sc1)[1]\n",
    "sc1_active_liked = merge_runs(sc1)[2]\n",
    "\n",
    "sc2_control_all = merge_runs(sc2)[0]\n",
    "sc2_active_all = merge_runs(sc2)[1]\n",
    "sc2_active_liked = merge_runs(sc2)[2]"
   ]
  },
  {
   "cell_type": "markdown",
   "metadata": {},
   "source": [
    "NOTE: From now on, to access the information from a certain csv file, call the following: sc**2**[\"r**1\\_control\\_all**\"]\n",
    "where the bolded text should be replaced with\n",
    "* scenario number (1,2,3,4,5,6)\n",
    "* run number (1,2,3,... 20)\n",
    "* if user is control or active (control, active)\n",
    "* if the data has all or only liked videos (all, liked) <br>\n",
    "For example: `sc2[\"r1_control_all\"]` gives (as a dataframe) all videos that scenario 2's control user saw **for only the first run**\n",
    "\n",
    "\n",
    "NOTE: To access information for all runs for a certain scenario's user and videos seen, call the following: sc**2\\_control\\_all**\n",
    "where the bolded text should be replaced with\n",
    "* scenario number (1,2,3,4,5,6)\n",
    "* either one of control_all, active_all, or active_liked <br>\n",
    "For example: `sc2_active_all` gives (as a dataframe) all videos that scenario 2's active user saw **during all 20 runs**"
   ]
  },
  {
   "cell_type": "markdown",
   "metadata": {},
   "source": [
    "However, you can always access a subset of the data for a specific run, by the following syntax: scenario_user_video[scenario_user_video.run == specificrunnumber].\n",
    "\n",
    "For example, `sc2_active_all[sc2_active_all.run == 2]` is equivalent to (has the same info but slightly diff columns) `sc2[\"r2_active_all\"]` <br>\n",
    "(which gives all the videos that scenario 2's active user saw for only the 2nd run)"
   ]
  },
  {
   "cell_type": "markdown",
   "metadata": {},
   "source": [
    "## 3. Analyzing Hashtags <a class=\"anchor\" id=\"three\"></a>\n",
    "\n",
    "### 3.1 Data Cleaning"
   ]
  },
  {
   "cell_type": "code",
   "execution_count": 9,
   "metadata": {},
   "outputs": [
    {
     "name": "stdout",
     "output_type": "stream",
     "text": [
      "411\n"
     ]
    }
   ],
   "source": [
    "hash_to_ignore = [\"fyp\", \"viral\", \"foryou\", \"foryoupage\", \"tiktok\", \"fy\", \"fypage\", \"fypchallenge\"]\n",
    "def clean_hashtags(df):\n",
    "    noNA_hash = []\n",
    "    NAcount = 0\n",
    "    for row in range(df.shape[0]): #for each post\n",
    "        if type(df.hashtag.iloc[row])==type(\"\"): #if not NaN types\n",
    "            list_of_hash = df.hashtag.iloc[row].split(\",\")\n",
    "            noNA_hash.append([hash.strip() for hash in list_of_hash])\n",
    "        else:\n",
    "            NAcount += 1\n",
    "            NAperc = (NAcount / df.shape[0]) #calculating the percent of videos without hashtags\n",
    "    full_list = list(set([a for b in noNA_hash for a in b]))\n",
    "    return (list(filter(lambda x: x not in hash_to_ignore, full_list)), NAperc)\n",
    "\n",
    "print(clean_hashtags(sc1_control_all)[1])"
   ]
  },
  {
   "cell_type": "markdown",
   "metadata": {},
   "source": [
    "### 3.2 Frequency Table"
   ]
  },
  {
   "cell_type": "code",
   "execution_count": 10,
   "metadata": {},
   "outputs": [
    {
     "name": "stdout",
     "output_type": "stream",
     "text": [
      "Series([], Name: count, dtype: int64)\n"
     ]
    }
   ],
   "source": [
    "freq = pd.Series(clean_hashtags(sc2[\"r1_control_all\"])[0]).value_counts()\n",
    "print(freq[freq>1]) #no explicit repetition"
   ]
  },
  {
   "cell_type": "markdown",
   "metadata": {},
   "source": [
    "### 3.3 Jaccard Index"
   ]
  },
  {
   "cell_type": "code",
   "execution_count": 31,
   "metadata": {},
   "outputs": [],
   "source": [
    "def jaccard_similarity(set1, set2):\n",
    "    intersection = len(set1.intersection(set2))\n",
    "    union = len(set1.union(set2))\n",
    "    return round(intersection / union, 3)"
   ]
  },
  {
   "cell_type": "markdown",
   "metadata": {},
   "source": [
    "#### 3.3.1 Feed Divergence (control vs active feeds)"
   ]
  },
  {
   "cell_type": "code",
   "execution_count": 12,
   "metadata": {},
   "outputs": [
    {
     "name": "stdout",
     "output_type": "stream",
     "text": [
      "    run  jaccard_index  num_videos_without_hash_control  \\\n",
      "0     1          0.146                               15   \n",
      "1     2          0.158                               29   \n",
      "2     3          0.092                               35   \n",
      "3     4          0.041                                3   \n",
      "4     5          0.103                               33   \n",
      "5     6          0.105                               32   \n",
      "6     7          0.099                               25   \n",
      "7     8          0.069                               23   \n",
      "8     9          0.060                               24   \n",
      "9    10          0.070                               27   \n",
      "10   11          0.036                                2   \n",
      "11   12          0.084                               15   \n",
      "12   13          0.097                               18   \n",
      "13   14          0.044                               13   \n",
      "14   15          0.071                               27   \n",
      "15   16          0.121                               26   \n",
      "16   17          0.082                               18   \n",
      "17   18          0.075                                6   \n",
      "18   19          0.128                               21   \n",
      "19   20          0.079                               19   \n",
      "\n",
      "    num_videos_without_hash_active  \n",
      "0                               41  \n",
      "1                               27  \n",
      "2                               37  \n",
      "3                               33  \n",
      "4                               46  \n",
      "5                               38  \n",
      "6                               30  \n",
      "7                               39  \n",
      "8                                9  \n",
      "9                               26  \n",
      "10                              27  \n",
      "11                              28  \n",
      "12                              26  \n",
      "13                              24  \n",
      "14                              21  \n",
      "15                              22  \n",
      "16                              30  \n",
      "17                              20  \n",
      "18                              20  \n",
      "19                              25  \n"
     ]
    }
   ],
   "source": [
    "def feed_div(scenario_num):\n",
    "    jaccard = []; con_NA=[]; act_NA=[]\n",
    "    for run_num in range(1,21):\n",
    "        if scenario_num==1:\n",
    "            control_set = sc1_control_all[sc1_control_all.run==run_num] #control feed\n",
    "            active_set = sc1_active_all[sc1_active_all.run==run_num] #active feed\n",
    "        #elif scenario_num==2:\n",
    "            \n",
    "        #computing jaccard similarity\n",
    "        set_a = set(clean_hashtags(control_set)[0])\n",
    "        set_b = set(clean_hashtags(active_set)[0])\n",
    "        jaccard.append(jaccard_similarity(set_a, set_b))\n",
    "\n",
    "        #percent of videos without hashtags\n",
    "        con_NA.append(clean_hashtags(control_set)[1])\n",
    "        act_NA.append(clean_hashtags(active_set)[1])\n",
    "    return jaccard, con_NA, act_NA\n",
    "\n",
    "def hash_summary(scenario_num):\n",
    "    hash_data=[]\n",
    "    for run_num in range(1,21):\n",
    "        run_data = [run_num, feed_div(scenario_num)[0][run_num-1], feed_div(scenario_num)[1][run_num-1], feed_div(scenario_num)[2][run_num-1]]\n",
    "        hash_data.append(run_data)\n",
    "    return pd.DataFrame(hash_data, columns=['run', 'jaccard_index', '%_videos_without_hash_control', '%_videos_without_hash_active'])\n",
    "\n",
    "# SCENARIO 1\n",
    "print(hash_summary(1))\n"
   ]
  },
  {
   "cell_type": "code",
   "execution_count": 25,
   "metadata": {},
   "outputs": [
    {
     "name": "stdout",
     "output_type": "stream",
     "text": [
      "[ 1  2  3  4  5  6  7  8  9 10 11 12 13 14 15 16 17 18 19 20]\n"
     ]
    }
   ],
   "source": [
    "print(np.arange(1,21,1))"
   ]
  },
  {
   "cell_type": "code",
   "execution_count": 37,
   "metadata": {},
   "outputs": [
    {
     "data": {
      "image/png": "[encoded data removed]",
      "text/plain": [
       "<Figure size 700x400 with 1 Axes>"
      ]
     },
     "metadata": {},
     "output_type": "display_data"
    }
   ],
   "source": [
    "# scatterplot of videos without hashtags\n",
    "fig, ax = plt.subplots(figsize=(7,4)) #change variable names later\n",
    "\n",
    "#each scenario has the same color\n",
    "#all control has solid line\n",
    "#all active has dashed line\n",
    "\n",
    "plt.plot(hash_summary(1)[\"run\"], hash_summary(1)[\"%_videos_without_hash_control\"], \n",
    "         color='green', linestyle='solid', label=\"Scen1control\")\n",
    "plt.plot(hash_summary(1)[\"run\"], hash_summary(1)[\"%_videos_without_hash_active\"], \n",
    "         color='green', linestyle='dashed', label=\"Scen1active\")\n",
    "#line style: [‘solid’ | ‘dashed’, ‘dashdot’, ‘dotted’ | (offset, on-off-dash-seq) | '-' | '--' | '-.' | ':' | 'None' | ' ' | '']\n",
    "\n",
    "ax.set_title('Percent of Videos without Hashtags over Multiple Runs')\n",
    "ax.set_xlabel('Runs')\n",
    "ax.set_ylabel('Percent of Videos')\n",
    "\n",
    "plt.yticks(np.arange(0, 50, 10)) #usually range is 0 to 1\n",
    "plt.xticks(np.arange(1,21,1))\n",
    "plt.legend()\n",
    "plt.show()\n"
   ]
  },
  {
   "cell_type": "code",
   "execution_count": 30,
   "metadata": {},
   "outputs": [
    {
     "data": {
      "image/png": "[encoded data removed]",
      "text/plain": [
       "<Figure size 700x400 with 1 Axes>"
      ]
     },
     "metadata": {},
     "output_type": "display_data"
    }
   ],
   "source": [
    "# plot similarities\n",
    "fig, ax = plt.subplots(figsize=(7,4))\n",
    "\n",
    "ax.plot(hash_summary(1)[\"run\"], hash_summary(1)[\"jaccard_index\"])\n",
    "ax.set_title('Scenario 1: Jaccard Index over Multiple Runs')\n",
    "#ax.legend(loc='upper left') #maybe superimpose multiple scenarios?\n",
    "ax.set_xlabel('Runs')\n",
    "ax.set_ylabel('Jaccard Index')\n",
    "\n",
    "plt.yticks(np.arange(0, 0.6,0.2)) #usually range is 0 to 1\n",
    "plt.xticks(np.arange(1,21,1))\n",
    "plt.show()\n",
    "\n",
    "\n",
    "\n",
    "#to superimpose other scenarios, use this??\n",
    "# fig, (ax1, ax2) = plt.subplots(nrows=1, ncols=2, figsize=(8, 4)) -- but this isn't on top of each other\n",
    "\n",
    "#plt.plot(x, y1, label ='y1') ---- plot 1\n",
    "#plt.plot(x, y2, '-.', label ='y2') ---- plot 2\n",
    "#plt.xlabel(\"X-axis data\")\n",
    "#plt.ylabel(\"Y-axis data\")\n",
    "#plt.legend()"
   ]
  },
  {
   "cell_type": "markdown",
   "metadata": {},
   "source": [
    "### 3.3.2 Hashtag Comparison (predefined vs actually liked)"
   ]
  },
  {
   "cell_type": "code",
   "execution_count": null,
   "metadata": {},
   "outputs": [],
   "source": [
    "#to compare similarities between other hashtags that were not predefined but still appeared for similar posts)\n",
    "#scen1_predefined_hash = set()\n",
    "#scen1_active_like = set()"
   ]
  },
  {
   "cell_type": "markdown",
   "metadata": {},
   "source": [
    "TODO: continue on"
   ]
  },
  {
   "cell_type": "code",
   "execution_count": null,
   "metadata": {},
   "outputs": [
    {
     "name": "stdout",
     "output_type": "stream",
     "text": [
      "music\n",
      "original sound - Gavin.kernstinee                              2\n",
      "AIN'T GONNA ANSWER - NLE Choppa & Lil Wayne                    2\n",
      "I Wouldnt Mind - ♱                                             1\n",
      "original sound - Alex                                          1\n",
      "som original - rinx                                            1\n",
      "                                                              ..\n",
      "original sound - fr0sty_rick                                   1\n",
      "Monkeys Spinning Monkeys - Kevin MacLeod & Kevin The Monkey    1\n",
      "Oi - My Soul Gone                                              1\n",
      "original sound - Sam Middleton                                 1\n",
      "original sound - squishiesophie                                1\n",
      "Name: count, Length: 80, dtype: int64\n",
      "author\n",
      "mirandahshaul         2\n",
      "didiios               1\n",
      "dangmattsmith         1\n",
      "vaynessvalery         1\n",
      "wolf.spectrum         1\n",
      "                     ..\n",
      "leci.bby              1\n",
      "madelineandstephen    1\n",
      "radicalraphael        1\n",
      "itz_justlola          1\n",
      "squishiesophie        1\n",
      "Name: count, Length: 81, dtype: int64\n"
     ]
    }
   ],
   "source": [
    "## ANALYZING MUSIC ----------------------------------------------------------------------------------\n",
    "mus = sc2[\"r1_control_all\"].music.value_counts()\n",
    "print(mus)\n",
    "\n",
    "\n",
    "\n",
    "\n",
    "## ANALYZING AUTHOR ---------------------------------------------------------------------------------\n",
    "aut = sc2[\"r1_control_all\"].author.value_counts()\n",
    "print(aut)"
   ]
  }
 ],
 "metadata": {
  "kernelspec": {
   "display_name": "Python 3",
   "language": "python",
   "name": "python3"
  },
  "language_info": {
   "codemirror_mode": {
    "name": "ipython",
    "version": 3
   },
   "file_extension": ".py",
   "mimetype": "text/x-python",
   "name": "python",
   "nbconvert_exporter": "python",
   "pygments_lexer": "ipython3",
   "version": "3.11.5"
  }
 },
 "nbformat": 4,
 "nbformat_minor": 2
}
