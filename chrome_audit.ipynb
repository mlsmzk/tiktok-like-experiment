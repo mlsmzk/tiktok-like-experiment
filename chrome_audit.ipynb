{
 "cells": [
  {
   "cell_type": "code",
   "execution_count": null,
   "id": "4a616b38",
   "metadata": {},
   "outputs": [],
   "source": [
    "#pip install Selenium\n",
    "#%pip install seleniumbase"
   ]
  },
  {
   "cell_type": "code",
   "execution_count": 1,
   "id": "5366ecf9",
   "metadata": {},
   "outputs": [],
   "source": [
    "from seleniumbase import Driver\n",
    "#from selenium import webdriver\n",
    "from selenium.webdriver.common.by import By # contains operators for the type of search we want to do\n",
    "import time\n",
    "from seleniumbase import BaseCase"
   ]
  },
  {
   "cell_type": "markdown",
   "id": "f06bdc7b",
   "metadata": {},
   "source": [
    "### 1. Login with email\n",
    "it will require manual verification at the end though\n",
    "### 2. Get video list and like "
   ]
  },
  {
   "cell_type": "code",
   "execution_count": 11,
   "id": "94752ef2",
   "metadata": {},
   "outputs": [],
   "source": [
    "class Tiktok_audit(BaseCase):\n",
    "\n",
    "    def __init__(self, bot_user_num, bot_test_scenario, bot_email, bot_password):\n",
    "        self.user_num = bot_user_num\n",
    "        self.test_scenario = bot_test_scenario\n",
    "        self.email = bot_email\n",
    "        self.password = bot_password\n",
    "        self.liked_list = []\n",
    "        self.browser = Driver(uc=True)\n",
    "        \n",
    "        #different approaches of selecting posts to like\n",
    "        self.approach = None #random, hashtag, content\n",
    "        self.to_like_list_random = [] #randomly\n",
    "        self.to_like_list_hashtag = [] #user personas defined by set of hashtags\n",
    "        self.to_like_list_content = []  #those that matched specific content creators or sounds\n",
    "        \n",
    "        self.batch_num = None  #1 batch = 30 posts\n",
    "        self.videos_list = []\n",
    "    \n",
    "    def fetch_tiktok(self):\n",
    "        self.browser.uc_open_with_reconnect('https://www.tiktok.com/en/',reconnect_time=5) #link to login page\n",
    "\n",
    "    def login(self):\n",
    "        time.sleep(1)\n",
    "\n",
    "        # click \"use phone/number/email\" on login page\n",
    "        use_email = self.browser.find_element(By.XPATH, \"/html/body/div[5]/div[3]/div/div/div/div[1]/div/div/div[1]/div[2]/div[2]\")\n",
    "        use_email.click()\n",
    "\n",
    "        time.sleep(4)\n",
    "\n",
    "        # click \"login with email or username\"\n",
    "        self.browser.find_element(By.XPATH, \"/html/body/div[5]/div[3]/div/div/div/div[1]/div[2]/form/div[1]/a\").click()\n",
    "\n",
    "        time.sleep(1)\n",
    "\n",
    "        input_username = self.browser.find_element(By.XPATH, \"/html/body/div[5]/div[3]/div/div/div/div[1]/div[2]/form/div[1]/input\")\n",
    "        input_password = self.browser.find_element(By.XPATH, \"/html/body/div[5]/div[3]/div/div/div/div[1]/div[2]/form/div[2]/div/input\")\n",
    "\n",
    "        input_username.send_keys(self.email)\n",
    "        input_password.send_keys(self.password)\n",
    "\n",
    "        time.sleep(3)\n",
    "\n",
    "        login = self.browser.find_element(By.XPATH, \"/html/body/div[5]/div[3]/div/div/div/div[1]/div[2]/form/button\")\n",
    "        login.click()\n",
    "    \n",
    "    def like_posts(self):\n",
    "        time.sleep(10)\n",
    "        like_list = self.browser.find_elements(By.XPATH, '//*[@class=\"css-1ok4pbl-ButtonActionItem e1hk3hf90\"]')\n",
    "        print(\"num of posts\",len(like_list))\n",
    "        for i in range(len(like_list)):\n",
    "            if i % 4 == 0:\n",
    "                print(like_list[i].get_attribute(\"aria-label\"))\n",
    "                time.sleep(2)\n",
    "        for i in range(len(like_list)):\n",
    "            if i % 4 == 0:\n",
    "                like_list[i].click()\n",
    "        \n",
    "        "
   ]
  },
  {
   "attachments": {},
   "cell_type": "markdown",
   "id": "b850643d",
   "metadata": {},
   "source": [
    "#### Need to debug from here\n",
    "the first run of like_posts() only processed 3 like buttons, and liked 3\n",
    "\n",
    "num of posts 12 means it identified 12 buttons (bad name will change tmr), so since one post has 4 buttons (like,comment,follow,share) 12 / 4 = 3 like buttons"
   ]
  },
  {
   "cell_type": "code",
   "execution_count": 13,
   "id": "1332b0ff",
   "metadata": {},
   "outputs": [
    {
     "name": "stdout",
     "output_type": "stream",
     "text": [
      "num of posts 32\n",
      "Like video\n",
      "97.9K likes\n",
      "Like video\n",
      "1.2M likes\n",
      "Like video\n",
      "121.7K likes\n",
      "Like video\n",
      "40.9K likes\n",
      "Like video\n",
      "131.5K likes\n",
      "Like video\n",
      "294.6K likes\n",
      "Like video\n",
      "197.6K likes\n",
      "Like video\n",
      "281.4K likes\n"
     ]
    },
    {
     "ename": "ElementClickInterceptedException",
     "evalue": "Message: element click intercepted: Element <button type=\"button\" aria-label=\"Like video\n97.9K likes\" aria-pressed=\"false\" class=\"css-1ok4pbl-ButtonActionItem e1hk3hf90\">...</button> is not clickable at point (827, 408). Other element would receive the click: <div id=\"loginContainer\" class=\"css-1cr55xt-DivPageWrapper eg439om3\">...</div>\n  (Session info: chrome=121.0.6167.139)\nStacktrace:\n0   uc_driver                           0x00000001030ad168 uc_driver + 4673896\n1   uc_driver                           0x00000001030a49c3 uc_driver + 4639171\n2   uc_driver                           0x0000000102c98fdd uc_driver + 397277\n3   uc_driver                           0x0000000102cebdee uc_driver + 736750\n4   uc_driver                           0x0000000102ce9b6a uc_driver + 727914\n5   uc_driver                           0x0000000102ce73ca uc_driver + 717770\n6   uc_driver                           0x0000000102ce61a5 uc_driver + 713125\n7   uc_driver                           0x0000000102cd96a7 uc_driver + 661159\n8   uc_driver                           0x0000000102d078c2 uc_driver + 850114\n9   uc_driver                           0x0000000102cd9038 uc_driver + 659512\n10  uc_driver                           0x0000000102d07a7e uc_driver + 850558\n11  uc_driver                           0x0000000102d26796 uc_driver + 976790\n12  uc_driver                           0x0000000102d07663 uc_driver + 849507\n13  uc_driver                           0x0000000102cd71cf uc_driver + 651727\n14  uc_driver                           0x0000000102cd81ae uc_driver + 655790\n15  uc_driver                           0x000000010306d380 uc_driver + 4412288\n16  uc_driver                           0x0000000103072798 uc_driver + 4433816\n17  uc_driver                           0x0000000103051d71 uc_driver + 4300145\n18  uc_driver                           0x00000001030734e6 uc_driver + 4437222\n19  uc_driver                           0x0000000103043d3c uc_driver + 4242748\n20  uc_driver                           0x0000000103093208 uc_driver + 4567560\n21  uc_driver                           0x00000001030933be uc_driver + 4567998\n22  uc_driver                           0x00000001030a4603 uc_driver + 4638211\n23  libsystem_pthread.dylib             0x00007ff80ff9b202 _pthread_start + 99\n24  libsystem_pthread.dylib             0x00007ff80ff96bab thread_start + 15\n",
     "output_type": "error",
     "traceback": [
      "\u001b[0;31m---------------------------------------------------------------------------\u001b[0m",
      "\u001b[0;31mElementClickInterceptedException\u001b[0m          Traceback (most recent call last)",
      "Cell \u001b[0;32mIn[13], line 5\u001b[0m\n\u001b[1;32m      2\u001b[0m johanna\u001b[39m.\u001b[39mfetch_tiktok()\n\u001b[1;32m      4\u001b[0m johanna\u001b[39m.\u001b[39mlogin()\n\u001b[0;32m----> 5\u001b[0m johanna\u001b[39m.\u001b[39;49mlike_posts()\n",
      "Cell \u001b[0;32mIn[11], line 58\u001b[0m, in \u001b[0;36mTiktok_audit.like_posts\u001b[0;34m(self)\u001b[0m\n\u001b[1;32m     56\u001b[0m \u001b[39mfor\u001b[39;00m i \u001b[39min\u001b[39;00m \u001b[39mrange\u001b[39m(\u001b[39mlen\u001b[39m(like_list)):\n\u001b[1;32m     57\u001b[0m     \u001b[39mif\u001b[39;00m i \u001b[39m%\u001b[39m \u001b[39m4\u001b[39m \u001b[39m==\u001b[39m \u001b[39m0\u001b[39m:\n\u001b[0;32m---> 58\u001b[0m         like_list[i]\u001b[39m.\u001b[39;49mclick()\n",
      "File \u001b[0;32m~/.virtualenvs/venv/lib/python3.11/site-packages/selenium/webdriver/remote/webelement.py:94\u001b[0m, in \u001b[0;36mWebElement.click\u001b[0;34m(self)\u001b[0m\n\u001b[1;32m     92\u001b[0m \u001b[39mdef\u001b[39;00m \u001b[39mclick\u001b[39m(\u001b[39mself\u001b[39m) \u001b[39m-\u001b[39m\u001b[39m>\u001b[39m \u001b[39mNone\u001b[39;00m:\n\u001b[1;32m     93\u001b[0m \u001b[39m    \u001b[39m\u001b[39m\"\"\"Clicks the element.\"\"\"\u001b[39;00m\n\u001b[0;32m---> 94\u001b[0m     \u001b[39mself\u001b[39;49m\u001b[39m.\u001b[39;49m_execute(Command\u001b[39m.\u001b[39;49mCLICK_ELEMENT)\n",
      "File \u001b[0;32m~/.virtualenvs/venv/lib/python3.11/site-packages/selenium/webdriver/remote/webelement.py:395\u001b[0m, in \u001b[0;36mWebElement._execute\u001b[0;34m(self, command, params)\u001b[0m\n\u001b[1;32m    393\u001b[0m     params \u001b[39m=\u001b[39m {}\n\u001b[1;32m    394\u001b[0m params[\u001b[39m\"\u001b[39m\u001b[39mid\u001b[39m\u001b[39m\"\u001b[39m] \u001b[39m=\u001b[39m \u001b[39mself\u001b[39m\u001b[39m.\u001b[39m_id\n\u001b[0;32m--> 395\u001b[0m \u001b[39mreturn\u001b[39;00m \u001b[39mself\u001b[39;49m\u001b[39m.\u001b[39;49m_parent\u001b[39m.\u001b[39;49mexecute(command, params)\n",
      "File \u001b[0;32m~/.virtualenvs/venv/lib/python3.11/site-packages/selenium/webdriver/remote/webdriver.py:347\u001b[0m, in \u001b[0;36mWebDriver.execute\u001b[0;34m(self, driver_command, params)\u001b[0m\n\u001b[1;32m    345\u001b[0m response \u001b[39m=\u001b[39m \u001b[39mself\u001b[39m\u001b[39m.\u001b[39mcommand_executor\u001b[39m.\u001b[39mexecute(driver_command, params)\n\u001b[1;32m    346\u001b[0m \u001b[39mif\u001b[39;00m response:\n\u001b[0;32m--> 347\u001b[0m     \u001b[39mself\u001b[39;49m\u001b[39m.\u001b[39;49merror_handler\u001b[39m.\u001b[39;49mcheck_response(response)\n\u001b[1;32m    348\u001b[0m     response[\u001b[39m\"\u001b[39m\u001b[39mvalue\u001b[39m\u001b[39m\"\u001b[39m] \u001b[39m=\u001b[39m \u001b[39mself\u001b[39m\u001b[39m.\u001b[39m_unwrap_value(response\u001b[39m.\u001b[39mget(\u001b[39m\"\u001b[39m\u001b[39mvalue\u001b[39m\u001b[39m\"\u001b[39m, \u001b[39mNone\u001b[39;00m))\n\u001b[1;32m    349\u001b[0m     \u001b[39mreturn\u001b[39;00m response\n",
      "File \u001b[0;32m~/.virtualenvs/venv/lib/python3.11/site-packages/selenium/webdriver/remote/errorhandler.py:229\u001b[0m, in \u001b[0;36mErrorHandler.check_response\u001b[0;34m(self, response)\u001b[0m\n\u001b[1;32m    227\u001b[0m         alert_text \u001b[39m=\u001b[39m value[\u001b[39m\"\u001b[39m\u001b[39malert\u001b[39m\u001b[39m\"\u001b[39m]\u001b[39m.\u001b[39mget(\u001b[39m\"\u001b[39m\u001b[39mtext\u001b[39m\u001b[39m\"\u001b[39m)\n\u001b[1;32m    228\u001b[0m     \u001b[39mraise\u001b[39;00m exception_class(message, screen, stacktrace, alert_text)  \u001b[39m# type: ignore[call-arg]  # mypy is not smart enough here\u001b[39;00m\n\u001b[0;32m--> 229\u001b[0m \u001b[39mraise\u001b[39;00m exception_class(message, screen, stacktrace)\n",
      "\u001b[0;31mElementClickInterceptedException\u001b[0m: Message: element click intercepted: Element <button type=\"button\" aria-label=\"Like video\n97.9K likes\" aria-pressed=\"false\" class=\"css-1ok4pbl-ButtonActionItem e1hk3hf90\">...</button> is not clickable at point (827, 408). Other element would receive the click: <div id=\"loginContainer\" class=\"css-1cr55xt-DivPageWrapper eg439om3\">...</div>\n  (Session info: chrome=121.0.6167.139)\nStacktrace:\n0   uc_driver                           0x00000001030ad168 uc_driver + 4673896\n1   uc_driver                           0x00000001030a49c3 uc_driver + 4639171\n2   uc_driver                           0x0000000102c98fdd uc_driver + 397277\n3   uc_driver                           0x0000000102cebdee uc_driver + 736750\n4   uc_driver                           0x0000000102ce9b6a uc_driver + 727914\n5   uc_driver                           0x0000000102ce73ca uc_driver + 717770\n6   uc_driver                           0x0000000102ce61a5 uc_driver + 713125\n7   uc_driver                           0x0000000102cd96a7 uc_driver + 661159\n8   uc_driver                           0x0000000102d078c2 uc_driver + 850114\n9   uc_driver                           0x0000000102cd9038 uc_driver + 659512\n10  uc_driver                           0x0000000102d07a7e uc_driver + 850558\n11  uc_driver                           0x0000000102d26796 uc_driver + 976790\n12  uc_driver                           0x0000000102d07663 uc_driver + 849507\n13  uc_driver                           0x0000000102cd71cf uc_driver + 651727\n14  uc_driver                           0x0000000102cd81ae uc_driver + 655790\n15  uc_driver                           0x000000010306d380 uc_driver + 4412288\n16  uc_driver                           0x0000000103072798 uc_driver + 4433816\n17  uc_driver                           0x0000000103051d71 uc_driver + 4300145\n18  uc_driver                           0x00000001030734e6 uc_driver + 4437222\n19  uc_driver                           0x0000000103043d3c uc_driver + 4242748\n20  uc_driver                           0x0000000103093208 uc_driver + 4567560\n21  uc_driver                           0x00000001030933be uc_driver + 4567998\n22  uc_driver                           0x00000001030a4603 uc_driver + 4638211\n23  libsystem_pthread.dylib             0x00007ff80ff9b202 _pthread_start + 99\n24  libsystem_pthread.dylib             0x00007ff80ff96bab thread_start + 15\n"
     ]
    }
   ],
   "source": [
    "johanna = Tiktok_audit(1,2,\"username@gmail.com\",\"pw\") #put a random # for param bot_num & bot_test_scenario\n",
    "johanna.fetch_tiktok()\n",
    "\n",
    "johanna.login()\n",
    "johanna.like_posts()"
   ]
  },
  {
   "attachments": {},
   "cell_type": "markdown",
   "id": "740b0fa3",
   "metadata": {},
   "source": [
    "the 2nd run identified 48/4 = 12 like buttons, but these were not on tiktok page -- thus no posts were liked"
   ]
  },
  {
   "cell_type": "code",
   "execution_count": 14,
   "id": "254046ca",
   "metadata": {},
   "outputs": [
    {
     "name": "stdout",
     "output_type": "stream",
     "text": [
      "num of posts 44\n",
      "Like video\n",
      "12.6M likes\n",
      "Like video\n",
      "50.2K likes\n",
      "Like video\n",
      "195.6K likes\n",
      "Like video\n",
      "145.5K likes\n",
      "Like video\n",
      "635.4K likes\n",
      "Like video\n",
      "131.1K likes\n",
      "Like video\n",
      "1.4M likes\n",
      "Like video\n",
      "22.7K likes\n",
      "Like video\n",
      "37.3K likes\n",
      "Like video\n",
      "69.4K likes\n",
      "Like video\n",
      "12.1K likes\n"
     ]
    }
   ],
   "source": [
    "johanna.like_posts()"
   ]
  },
  {
   "attachments": {},
   "cell_type": "markdown",
   "id": "d83a13d1",
   "metadata": {},
   "source": [
    "#### This code liked all posts on the screen until it ran into an error\n",
    "because the first 3 posts were already liked on the page, they were un-liked."
   ]
  },
  {
   "cell_type": "code",
   "execution_count": 10,
   "id": "c46d0215",
   "metadata": {},
   "outputs": [
    {
     "name": "stdout",
     "output_type": "stream",
     "text": [
      "num of posts 48\n",
      "Like video\n",
      "484.6K likes\n",
      "Like video\n",
      "514.6K likes\n",
      "Like video\n",
      "197.6K likes\n",
      "Like video\n",
      "114.5K likes\n",
      "Like video\n",
      "452.5K likes\n",
      "Like video\n",
      "174.9K likes\n",
      "Like video\n",
      "754.5K likes\n",
      "Like video\n",
      "1.1M likes\n",
      "Like video\n",
      "266.3K likes\n",
      "Like video\n",
      "1.9M likes\n",
      "Like video\n",
      "105.3K likes\n",
      "Like video\n",
      "10K likes\n"
     ]
    },
    {
     "ename": "ElementClickInterceptedException",
     "evalue": "Message: element click intercepted: Element <button type=\"button\" aria-label=\"Like video\n514.6K likes\" aria-pressed=\"false\" class=\"css-1ok4pbl-ButtonActionItem e1hk3hf90\">...</button> is not clickable at point (522, 738). Other element would receive the click: <div class=\"css-qxzyco-DivBottomContainer ew8lpw50\">...</div>\n  (Session info: chrome=121.0.6167.85)\nStacktrace:\n0   uc_driver                           0x00000001047ef168 uc_driver + 4673896\n1   uc_driver                           0x00000001047e69c3 uc_driver + 4639171\n2   uc_driver                           0x00000001043dafdd uc_driver + 397277\n3   uc_driver                           0x000000010442ddee uc_driver + 736750\n4   uc_driver                           0x000000010442bb6a uc_driver + 727914\n5   uc_driver                           0x00000001044293ca uc_driver + 717770\n6   uc_driver                           0x00000001044281a5 uc_driver + 713125\n7   uc_driver                           0x000000010441b6a7 uc_driver + 661159\n8   uc_driver                           0x00000001044498c2 uc_driver + 850114\n9   uc_driver                           0x000000010441b038 uc_driver + 659512\n10  uc_driver                           0x0000000104449a7e uc_driver + 850558\n11  uc_driver                           0x0000000104468796 uc_driver + 976790\n12  uc_driver                           0x0000000104449663 uc_driver + 849507\n13  uc_driver                           0x00000001044191cf uc_driver + 651727\n14  uc_driver                           0x000000010441a1ae uc_driver + 655790\n15  uc_driver                           0x00000001047af380 uc_driver + 4412288\n16  uc_driver                           0x00000001047b4798 uc_driver + 4433816\n17  uc_driver                           0x0000000104793d71 uc_driver + 4300145\n18  uc_driver                           0x00000001047b54e6 uc_driver + 4437222\n19  uc_driver                           0x0000000104785d3c uc_driver + 4242748\n20  uc_driver                           0x00000001047d5208 uc_driver + 4567560\n21  uc_driver                           0x00000001047d53be uc_driver + 4567998\n22  uc_driver                           0x00000001047e6603 uc_driver + 4638211\n23  libsystem_pthread.dylib             0x00007ff80ff9b202 _pthread_start + 99\n24  libsystem_pthread.dylib             0x00007ff80ff96bab thread_start + 15\n",
     "output_type": "error",
     "traceback": [
      "\u001b[0;31m---------------------------------------------------------------------------\u001b[0m",
      "\u001b[0;31mElementClickInterceptedException\u001b[0m          Traceback (most recent call last)",
      "Cell \u001b[0;32mIn[10], line 1\u001b[0m\n\u001b[0;32m----> 1\u001b[0m johanna\u001b[39m.\u001b[39;49mlike_posts()\n",
      "Cell \u001b[0;32mIn[6], line 58\u001b[0m, in \u001b[0;36mTiktok_audit.like_posts\u001b[0;34m(self)\u001b[0m\n\u001b[1;32m     56\u001b[0m \u001b[39mfor\u001b[39;00m i \u001b[39min\u001b[39;00m \u001b[39mrange\u001b[39m(\u001b[39mlen\u001b[39m(like_list)):\n\u001b[1;32m     57\u001b[0m     \u001b[39mif\u001b[39;00m i \u001b[39m%\u001b[39m \u001b[39m4\u001b[39m \u001b[39m==\u001b[39m \u001b[39m0\u001b[39m:\n\u001b[0;32m---> 58\u001b[0m         like_list[i]\u001b[39m.\u001b[39;49mclick()\n",
      "File \u001b[0;32m~/.virtualenvs/venv/lib/python3.11/site-packages/selenium/webdriver/remote/webelement.py:94\u001b[0m, in \u001b[0;36mWebElement.click\u001b[0;34m(self)\u001b[0m\n\u001b[1;32m     92\u001b[0m \u001b[39mdef\u001b[39;00m \u001b[39mclick\u001b[39m(\u001b[39mself\u001b[39m) \u001b[39m-\u001b[39m\u001b[39m>\u001b[39m \u001b[39mNone\u001b[39;00m:\n\u001b[1;32m     93\u001b[0m \u001b[39m    \u001b[39m\u001b[39m\"\"\"Clicks the element.\"\"\"\u001b[39;00m\n\u001b[0;32m---> 94\u001b[0m     \u001b[39mself\u001b[39;49m\u001b[39m.\u001b[39;49m_execute(Command\u001b[39m.\u001b[39;49mCLICK_ELEMENT)\n",
      "File \u001b[0;32m~/.virtualenvs/venv/lib/python3.11/site-packages/selenium/webdriver/remote/webelement.py:395\u001b[0m, in \u001b[0;36mWebElement._execute\u001b[0;34m(self, command, params)\u001b[0m\n\u001b[1;32m    393\u001b[0m     params \u001b[39m=\u001b[39m {}\n\u001b[1;32m    394\u001b[0m params[\u001b[39m\"\u001b[39m\u001b[39mid\u001b[39m\u001b[39m\"\u001b[39m] \u001b[39m=\u001b[39m \u001b[39mself\u001b[39m\u001b[39m.\u001b[39m_id\n\u001b[0;32m--> 395\u001b[0m \u001b[39mreturn\u001b[39;00m \u001b[39mself\u001b[39;49m\u001b[39m.\u001b[39;49m_parent\u001b[39m.\u001b[39;49mexecute(command, params)\n",
      "File \u001b[0;32m~/.virtualenvs/venv/lib/python3.11/site-packages/selenium/webdriver/remote/webdriver.py:347\u001b[0m, in \u001b[0;36mWebDriver.execute\u001b[0;34m(self, driver_command, params)\u001b[0m\n\u001b[1;32m    345\u001b[0m response \u001b[39m=\u001b[39m \u001b[39mself\u001b[39m\u001b[39m.\u001b[39mcommand_executor\u001b[39m.\u001b[39mexecute(driver_command, params)\n\u001b[1;32m    346\u001b[0m \u001b[39mif\u001b[39;00m response:\n\u001b[0;32m--> 347\u001b[0m     \u001b[39mself\u001b[39;49m\u001b[39m.\u001b[39;49merror_handler\u001b[39m.\u001b[39;49mcheck_response(response)\n\u001b[1;32m    348\u001b[0m     response[\u001b[39m\"\u001b[39m\u001b[39mvalue\u001b[39m\u001b[39m\"\u001b[39m] \u001b[39m=\u001b[39m \u001b[39mself\u001b[39m\u001b[39m.\u001b[39m_unwrap_value(response\u001b[39m.\u001b[39mget(\u001b[39m\"\u001b[39m\u001b[39mvalue\u001b[39m\u001b[39m\"\u001b[39m, \u001b[39mNone\u001b[39;00m))\n\u001b[1;32m    349\u001b[0m     \u001b[39mreturn\u001b[39;00m response\n",
      "File \u001b[0;32m~/.virtualenvs/venv/lib/python3.11/site-packages/selenium/webdriver/remote/errorhandler.py:229\u001b[0m, in \u001b[0;36mErrorHandler.check_response\u001b[0;34m(self, response)\u001b[0m\n\u001b[1;32m    227\u001b[0m         alert_text \u001b[39m=\u001b[39m value[\u001b[39m\"\u001b[39m\u001b[39malert\u001b[39m\u001b[39m\"\u001b[39m]\u001b[39m.\u001b[39mget(\u001b[39m\"\u001b[39m\u001b[39mtext\u001b[39m\u001b[39m\"\u001b[39m)\n\u001b[1;32m    228\u001b[0m     \u001b[39mraise\u001b[39;00m exception_class(message, screen, stacktrace, alert_text)  \u001b[39m# type: ignore[call-arg]  # mypy is not smart enough here\u001b[39;00m\n\u001b[0;32m--> 229\u001b[0m \u001b[39mraise\u001b[39;00m exception_class(message, screen, stacktrace)\n",
      "\u001b[0;31mElementClickInterceptedException\u001b[0m: Message: element click intercepted: Element <button type=\"button\" aria-label=\"Like video\n514.6K likes\" aria-pressed=\"false\" class=\"css-1ok4pbl-ButtonActionItem e1hk3hf90\">...</button> is not clickable at point (522, 738). Other element would receive the click: <div class=\"css-qxzyco-DivBottomContainer ew8lpw50\">...</div>\n  (Session info: chrome=121.0.6167.85)\nStacktrace:\n0   uc_driver                           0x00000001047ef168 uc_driver + 4673896\n1   uc_driver                           0x00000001047e69c3 uc_driver + 4639171\n2   uc_driver                           0x00000001043dafdd uc_driver + 397277\n3   uc_driver                           0x000000010442ddee uc_driver + 736750\n4   uc_driver                           0x000000010442bb6a uc_driver + 727914\n5   uc_driver                           0x00000001044293ca uc_driver + 717770\n6   uc_driver                           0x00000001044281a5 uc_driver + 713125\n7   uc_driver                           0x000000010441b6a7 uc_driver + 661159\n8   uc_driver                           0x00000001044498c2 uc_driver + 850114\n9   uc_driver                           0x000000010441b038 uc_driver + 659512\n10  uc_driver                           0x0000000104449a7e uc_driver + 850558\n11  uc_driver                           0x0000000104468796 uc_driver + 976790\n12  uc_driver                           0x0000000104449663 uc_driver + 849507\n13  uc_driver                           0x00000001044191cf uc_driver + 651727\n14  uc_driver                           0x000000010441a1ae uc_driver + 655790\n15  uc_driver                           0x00000001047af380 uc_driver + 4412288\n16  uc_driver                           0x00000001047b4798 uc_driver + 4433816\n17  uc_driver                           0x0000000104793d71 uc_driver + 4300145\n18  uc_driver                           0x00000001047b54e6 uc_driver + 4437222\n19  uc_driver                           0x0000000104785d3c uc_driver + 4242748\n20  uc_driver                           0x00000001047d5208 uc_driver + 4567560\n21  uc_driver                           0x00000001047d53be uc_driver + 4567998\n22  uc_driver                           0x00000001047e6603 uc_driver + 4638211\n23  libsystem_pthread.dylib             0x00007ff80ff9b202 _pthread_start + 99\n24  libsystem_pthread.dylib             0x00007ff80ff96bab thread_start + 15\n"
     ]
    }
   ],
   "source": [
    "johanna.like_posts()"
   ]
  },
  {
   "attachments": {},
   "cell_type": "markdown",
   "id": "c2c63a86",
   "metadata": {},
   "source": [
    "### Summary:\n",
    "while this code fixed the temporary liking issue, it's still unclear why the number of posts it loads to like is different for every run of like_posts(). \n",
    "maybe we trigger something when we access the like at the last post of the page?"
   ]
  }
 ],
 "metadata": {
  "kernelspec": {
   "display_name": "local-venv-kernel",
   "language": "python",
   "name": "local-venv-kernel"
  },
  "language_info": {
   "codemirror_mode": {
    "name": "ipython",
    "version": 3
   },
   "file_extension": ".py",
   "mimetype": "text/x-python",
   "name": "python",
   "nbconvert_exporter": "python",
   "pygments_lexer": "ipython3",
   "version": "3.11.7"
  },
  "vscode": {
   "interpreter": {
    "hash": "998e054e2a336645a1c034d50f95524bbbabc00cc66740a3f3687176c9a2862f"
   }
  }
 },
 "nbformat": 4,
 "nbformat_minor": 5
}
